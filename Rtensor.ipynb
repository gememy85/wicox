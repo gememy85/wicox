{
 "cells": [
  {
   "cell_type": "code",
   "execution_count": 1,
   "id": "1e4d4e01",
   "metadata": {
    "scrolled": true
   },
   "outputs": [
    {
     "name": "stderr",
     "output_type": "stream",
     "text": [
      "Installing package into ‘/home/wonseok/R/x86_64-redhat-linux-gnu-library/4.0’\n",
      "(as ‘lib’ is unspecified)\n",
      "\n"
     ]
    }
   ],
   "source": [
    "install.packages('rTensor')"
   ]
  },
  {
   "cell_type": "code",
   "execution_count": 3,
   "id": "aa45b4f4",
   "metadata": {
    "scrolled": true
   },
   "outputs": [
    {
     "name": "stderr",
     "output_type": "stream",
     "text": [
      "Loading required package: rTensor\n",
      "\n"
     ]
    }
   ],
   "source": [
    "require(rTensor)"
   ]
  },
  {
   "cell_type": "code",
   "execution_count": 8,
   "id": "d291f877",
   "metadata": {},
   "outputs": [],
   "source": [
    "m <- matrix(nrow=2,ncol=3)\n",
    "indices <- c(2,3,100)\n",
    "arr<- array(dim=indices)\n",
    "abc <- as.tensor(arr)"
   ]
  },
  {
   "cell_type": "code",
   "execution_count": 16,
   "id": "cbfffd8f",
   "metadata": {},
   "outputs": [
    {
     "data": {
      "text/plain": [
       "Numeric Tensor of 2 Modes\n",
       "Modes:  2 3 \n",
       "Data: \n",
       "     [,1] [,2] [,3]\n",
       "[1,]   NA   10   NA\n",
       "[2,]   NA   NA   NA"
      ]
     },
     "metadata": {},
     "output_type": "display_data"
    }
   ],
   "source": [
    "abc[,,1]"
   ]
  },
  {
   "cell_type": "code",
   "execution_count": null,
   "id": "bc218c6b",
   "metadata": {},
   "outputs": [],
   "source": []
  }
 ],
 "metadata": {
  "kernelspec": {
   "display_name": "R",
   "language": "R",
   "name": "ir"
  },
  "language_info": {
   "codemirror_mode": "r",
   "file_extension": ".r",
   "mimetype": "text/x-r-source",
   "name": "R",
   "pygments_lexer": "r",
   "version": "4.0.5"
  },
  "latex_envs": {
   "LaTeX_envs_menu_present": true,
   "autoclose": false,
   "autocomplete": true,
   "bibliofile": "biblio.bib",
   "cite_by": "apalike",
   "current_citInitial": 1,
   "eqLabelWithNumbers": true,
   "eqNumInitial": 1,
   "hotkeys": {
    "equation": "Ctrl-E",
    "itemize": "Ctrl-I"
   },
   "labels_anchors": false,
   "latex_user_defs": false,
   "report_style_numbering": false,
   "user_envs_cfg": false
  },
  "toc": {
   "base_numbering": 1,
   "nav_menu": {},
   "number_sections": true,
   "sideBar": true,
   "skip_h1_title": false,
   "title_cell": "Table of Contents",
   "title_sidebar": "Contents",
   "toc_cell": false,
   "toc_position": {},
   "toc_section_display": true,
   "toc_window_display": false
  }
 },
 "nbformat": 4,
 "nbformat_minor": 5
}
