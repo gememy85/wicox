{
 "cells": [
  {
   "cell_type": "code",
   "execution_count": 73,
   "metadata": {},
   "outputs": [],
   "source": [
    "require(reshape)\n",
    "require(repr)\n",
    "require(ggplot2)\n",
    "require(dplyr)\n",
    "require(survival)\n",
    "require(zoo)\n",
    "require(caret)"
   ]
  },
  {
   "cell_type": "code",
   "execution_count": 74,
   "metadata": {},
   "outputs": [],
   "source": [
    "df <- read.csv('data/total_logistic.csv', header=TRUE, sep=\",\") %>% \n",
    "    filter(hospitalid==420 | hospitalid==443) %>%\n",
    "    select(hospitalid, actualiculos, mortality2, age, GCS2, temperature2, ph2, pco22, bun2, bilirubin2, fio22) %>% \n",
    "    na.omit()"
   ]
  },
  {
   "cell_type": "code",
   "execution_count": 75,
   "metadata": {},
   "outputs": [],
   "source": [
    "H1<- df %>% \n",
    "    filter(hospitalid == 420) %>%\n",
    "    filter(actualiculos <= 50)\n",
    "H2 <- df %>% \n",
    "    filter(hospitalid == 443) %>% \n",
    "    filter(actualiculos <= 50)\n",
    "save(H1, H2, file='data/H_central.RData')"
   ]
  },
  {
   "cell_type": "code",
   "execution_count": 76,
   "metadata": {},
   "outputs": [],
   "source": [
    "load('data/H_central.RData')"
   ]
  },
  {
   "cell_type": "code",
   "execution_count": 77,
   "metadata": {},
   "outputs": [
    {
     "data": {
      "text/html": [
       "<style>\n",
       ".list-inline {list-style: none; margin:0; padding: 0}\n",
       ".list-inline>li {display: inline-block}\n",
       ".list-inline>li:not(:last-child)::after {content: \"\\00b7\"; padding: 0 .5ex}\n",
       "</style>\n",
       "<ol class=list-inline><li>'hospitalid'</li><li>'actualiculos'</li><li>'mortality2'</li><li>'age'</li><li>'GCS2'</li><li>'temperature2'</li><li>'ph2'</li><li>'pco22'</li><li>'bun2'</li><li>'bilirubin2'</li><li>'fio22'</li></ol>\n"
      ],
      "text/latex": [
       "\\begin{enumerate*}\n",
       "\\item 'hospitalid'\n",
       "\\item 'actualiculos'\n",
       "\\item 'mortality2'\n",
       "\\item 'age'\n",
       "\\item 'GCS2'\n",
       "\\item 'temperature2'\n",
       "\\item 'ph2'\n",
       "\\item 'pco22'\n",
       "\\item 'bun2'\n",
       "\\item 'bilirubin2'\n",
       "\\item 'fio22'\n",
       "\\end{enumerate*}\n"
      ],
      "text/markdown": [
       "1. 'hospitalid'\n",
       "2. 'actualiculos'\n",
       "3. 'mortality2'\n",
       "4. 'age'\n",
       "5. 'GCS2'\n",
       "6. 'temperature2'\n",
       "7. 'ph2'\n",
       "8. 'pco22'\n",
       "9. 'bun2'\n",
       "10. 'bilirubin2'\n",
       "11. 'fio22'\n",
       "\n",
       "\n"
      ],
      "text/plain": [
       " [1] \"hospitalid\"   \"actualiculos\" \"mortality2\"   \"age\"          \"GCS2\"        \n",
       " [6] \"temperature2\" \"ph2\"          \"pco22\"        \"bun2\"         \"bilirubin2\"  \n",
       "[11] \"fio22\"       "
      ]
     },
     "metadata": {},
     "output_type": "display_data"
    }
   ],
   "source": [
    "col.list <- H1 %>% names() \n",
    "col.list"
   ]
  },
  {
   "cell_type": "code",
   "execution_count": 78,
   "metadata": {},
   "outputs": [],
   "source": [
    "# change the name of the variables to time, Y, and x1..xp\n",
    "\n",
    "namer.function <- function(local.data, time, Y)\n",
    "{\n",
    "    df <- rename(local.data, \"time\"=time, \"Y\"=Y)\n",
    "    df.Y <- subset(df, select = c(\"time\",\"Y\"))\n",
    "    df.X <- subset(df, select = !(names(df) %in% c(\"time\",\"Y\")))\n",
    "    \n",
    "    # rename X's\n",
    "    col.len <- df.X %>% names %>% length\n",
    "    \n",
    "    for(i in 1:col.len){\n",
    "            names(df.X)[i] <- paste0('x',i)\n",
    "        }\n",
    "    changed.data <- cbind(df.Y, df.X)\n",
    "    return(changed.data)\n",
    "}"
   ]
  },
  {
   "cell_type": "code",
   "execution_count": 79,
   "metadata": {},
   "outputs": [],
   "source": [
    "H1.changed <- namer.function(H1,'actualiculos','mortality2')\n",
    "H2.changed <- namer.function(H2, 'actualiculos', 'mortality2')"
   ]
  },
  {
   "cell_type": "code",
   "execution_count": 80,
   "metadata": {},
   "outputs": [],
   "source": [
    "H1.changed <- H1.changed %>% as_tibble()\n",
    "H2.changed <- H2.changed %>% as_tibble()"
   ]
  },
  {
   "cell_type": "code",
   "execution_count": 81,
   "metadata": {},
   "outputs": [],
   "source": [
    "Generate.Z1.Z2 <- function(local.data, predictor, p, m)\n",
    "{   \n",
    "    z1.list <- list()\n",
    "    z2.list <- list()\n",
    "\n",
    "    split <- function(data, y ,p)\n",
    "    {\n",
    "        z1.idx <- caret::createDataPartition(y = data[[y]], p=p, list=FALSE)\n",
    "        z1<- data[z1.idx,]\n",
    "        z2<- data[-z1.idx,]\n",
    "        return(list(z1,z2))\n",
    "    }\n",
    "\n",
    "    for(i in 1:m){\n",
    "        split(local.data, predictor, p)\n",
    "        result <- split(local.data, predictor, p)\n",
    "\n",
    "        z1.list <- append(z1.list, result[1])\n",
    "        z2.list <- append(z2.list, result[2])\n",
    "        if(i == m) break\n",
    "        i = i + 1\n",
    "    }\n",
    "\n",
    "    return(list(z1.list, z2.list))\n",
    "}\n",
    "\n",
    "# 설명\n",
    "# z1.list 와 z2.list 가 순서대로 m개씩 묶여있다. "
   ]
  },
  {
   "cell_type": "code",
   "execution_count": 82,
   "metadata": {},
   "outputs": [],
   "source": [
    "Z1.Z2.H1.100 <- Generate.Z1.Z2(H1.changed, 'Y', 0.7, 100)\n",
    "Z1.Z2.H2.100 <- Generate.Z1.Z2(H2.changed, 'Y', 0.7, 100)"
   ]
  },
  {
   "cell_type": "code",
   "execution_count": 83,
   "metadata": {},
   "outputs": [],
   "source": [
    "save(Z1.Z2.H1.100, file = 'data/z1z2H1.Rdata')\n",
    "save(Z1.Z2.H2.100, file = 'data/z1z2H2.Rdata')"
   ]
  },
  {
   "cell_type": "code",
   "execution_count": 84,
   "metadata": {},
   "outputs": [
    {
     "data": {
      "text/html": [
       "100"
      ],
      "text/latex": [
       "100"
      ],
      "text/markdown": [
       "100"
      ],
      "text/plain": [
       "[1] 100"
      ]
     },
     "metadata": {},
     "output_type": "display_data"
    }
   ],
   "source": [
    "Z1.Z2.H1.100[[1]] %>% length"
   ]
  },
  {
   "cell_type": "code",
   "execution_count": 117,
   "metadata": {},
   "outputs": [
    {
     "data": {
      "text/html": [
       "<ol>\n",
       "\t<li>NULL</li>\n",
       "</ol>\n"
      ],
      "text/latex": [
       "\\begin{enumerate}\n",
       "\\item NULL\n",
       "\\end{enumerate}\n"
      ],
      "text/markdown": [
       "1. NULL\n",
       "\n",
       "\n"
      ],
      "text/plain": [
       "[[1]]\n",
       "NULL\n"
      ]
     },
     "metadata": {},
     "output_type": "display_data"
    }
   ],
   "source": [
    "Z1.Z2.H1.100[[1]][1][\"Y\"]"
   ]
  },
  {
   "cell_type": "code",
   "execution_count": 133,
   "metadata": {},
   "outputs": [],
   "source": [
    "# 모델 만들기\n",
    "\n",
    "partyNameH1 <- \"H1\"\n",
    "partyNameH2 <- \"H2\"\n",
    "\n",
    "\n",
    "make.model <- function(z1z2list, party.name)\n",
    "{\n",
    "    m <- z1z2list[[1]] %>% length\n",
    "    \n",
    "    # 모델을 만든다. z1z2의 리스트에 있는 z1의 1~m개의 데이터를 바탕으로\n",
    "    # 모델을 만든다.\n",
    "    \n",
    "    for(i in 1:m){\n",
    "        assign(paste0('cox','.',party.name,'.',i), \n",
    "            coxph(Surv(time, Y) ~ . ,data=z1z2list[[1]][[i]],\n",
    "            ties='breslow'), envir=.GlobalEnv)\n",
    "    }\n",
    "}"
   ]
  },
  {
   "cell_type": "code",
   "execution_count": 136,
   "metadata": {},
   "outputs": [],
   "source": [
    "make.model(Z1.Z2.H1.100, 'H1')\n",
    "make.model(Z1.Z2.H1.100, 'H2')\n",
    "# 모델 생성"
   ]
  },
  {
   "cell_type": "code",
   "execution_count": 201,
   "metadata": {},
   "outputs": [
    {
     "data": {
      "text/plain": [
       "$<NA>\n",
       "NULL\n"
      ]
     },
     "metadata": {},
     "output_type": "display_data"
    }
   ],
   "source": [
    "cox.H1.2[20]"
   ]
  },
  {
   "cell_type": "code",
   "execution_count": 210,
   "metadata": {
    "scrolled": false
   },
   "outputs": [
    {
     "data": {
      "text/plain": [
       "$<NA>\n",
       "NULL\n"
      ]
     },
     "metadata": {},
     "output_type": "display_data"
    }
   ],
   "source": [
    "\n",
    "cox.H1.2[\"coefficients\"][1][2]"
   ]
  },
  {
   "cell_type": "code",
   "execution_count": 166,
   "metadata": {},
   "outputs": [
    {
     "data": {
      "text/plain": [
       "Call:\n",
       "coxph(formula = Surv(time, Y) ~ ., data = z1z2list[[1]][[i]], \n",
       "    ties = \"breslow\")\n",
       "\n",
       "         coef  exp(coef)   se(coef)      z       p\n",
       "x1         NA         NA  0.0000000     NA      NA\n",
       "x2  0.0185982  1.0187722  0.0074363  2.501 0.01238\n",
       "x3 -0.1008344  0.9040827  0.0313294 -3.219 0.00129\n",
       "x4 -0.1672417  0.8459951  0.0576417 -2.901 0.00371\n",
       "x5 -3.1322843  0.0436180  0.9691840 -3.232 0.00123\n",
       "x6  0.0004329  1.0004330  0.0096645  0.045 0.96427\n",
       "x7  0.0070219  1.0070466  0.0043649  1.609 0.10767\n",
       "x8  0.0148874  1.0149988  0.0195810  0.760 0.44708\n",
       "x9  0.0027342  1.0027379  0.0045850  0.596 0.55095\n",
       "\n",
       "Likelihood ratio test=74.85  on 8 df, p=5.28e-13\n",
       "n= 370, number of events= 105 "
      ]
     },
     "metadata": {},
     "output_type": "display_data"
    }
   ],
   "source": [
    "cox.H1.1"
   ]
  },
  {
   "cell_type": "code",
   "execution_count": 146,
   "metadata": {},
   "outputs": [
    {
     "data": {
      "text/html": [
       "<table class=\"dataframe\">\n",
       "<caption>A matrix: 3 × 3 of type dbl</caption>\n",
       "<tbody>\n",
       "\t<tr><td> 1</td><td>NA</td><td>NA</td></tr>\n",
       "\t<tr><td>NA</td><td>NA</td><td>NA</td></tr>\n",
       "\t<tr><td>NA</td><td>NA</td><td>NA</td></tr>\n",
       "</tbody>\n",
       "</table>\n"
      ],
      "text/latex": [
       "A matrix: 3 × 3 of type dbl\n",
       "\\begin{tabular}{lll}\n",
       "\t  1 & NA & NA\\\\\n",
       "\t NA & NA & NA\\\\\n",
       "\t NA & NA & NA\\\\\n",
       "\\end{tabular}\n"
      ],
      "text/markdown": [
       "\n",
       "A matrix: 3 × 3 of type dbl\n",
       "\n",
       "|  1 | NA | NA |\n",
       "| NA | NA | NA |\n",
       "| NA | NA | NA |\n",
       "\n"
      ],
      "text/plain": [
       "     [,1] [,2] [,3]\n",
       "[1,]  1   NA   NA  \n",
       "[2,] NA   NA   NA  \n",
       "[3,] NA   NA   NA  "
      ]
     },
     "metadata": {},
     "output_type": "display_data"
    }
   ],
   "source": [
    "total_model.H1 <- matrix(nrow=3, ncol=3)\n",
    "\n",
    "total_model.H1[1,1] <- 1\n",
    "total_model.H1"
   ]
  },
  {
   "cell_type": "code",
   "execution_count": 70,
   "metadata": {},
   "outputs": [],
   "source": [
    "make.coefficient.matrix <- function(data.list, party.name)\n",
    "{\n",
    "    m <- data.list[1] %>% length\n",
    "    p <- (data.list[[1]][1] %>% names %>% length) - 2\n",
    "    \n",
    "    # 각 데이터로부터의 행렬. m*2p 모양이다\n",
    "    assign(paste0('total_model.',party.name), matrix(nrow=m, ncol=p)\n",
    "    \n",
    "    # 이 함수는 \n",
    "    assign.by.char <- function(x, ...){\n",
    "        eval.parent(assign(x, do.call(`[<-`, list(get(x), ...))))\n",
    "    }\n",
    "           \n",
    "    for(i in 1:m){\n",
    "        for(j in 1:p){\n",
    "            \n",
    "            assign(get(paste0('total_model.', party.name))[i,j] , get(paste0('cox.',party.name,'.',i))$coefficient[[j]])\n",
    "#             a <- assign.by.char(paste0('total_model', party.name), i, j, get(paste0('cox.',party.name,'.',i))$coefficient[j])\n",
    "#             assign(paste0('total_model',party.name), a)\n",
    "            \n",
    "            assign(get(paste0('total_model.', party.name))[i,j+p], get(paste0('cox.',party.name,'.',i))$coefficient[j,3])\n",
    "            a <- assign.by.char(paste0('total_model', party.name), i, (j+P), summary(get(paste0('cox.',party.name,'.',i)))$coefficients[j,3])\n",
    "            assign(paste0('total_model',party.name), a)\n",
    "        }\n",
    "    }\n",
    "    assign(paste0('total_model',host), matrix(nrow=))\n",
    "}\n",
    "for(i in )"
   ]
  },
  {
   "cell_type": "code",
   "execution_count": null,
   "metadata": {},
   "outputs": [],
   "source": [
    "# time vector\n",
    "time.vector.function <- function(local.data)\n",
    "{\n",
    "    event<- select(filter(local.data, Y==1), time)\n",
    "    grouped <- group_by(event, time)\n",
    "    assign(paste0())\n",
    "}\n",
    "select(filter())"
   ]
  },
  {
   "cell_type": "code",
   "execution_count": 86,
   "metadata": {},
   "outputs": [
    {
     "data": {
      "text/html": [
       "<ol>\n",
       "\t<li><table class=\"dataframe\">\n",
       "<caption>A tibble: 370 × 11</caption>\n",
       "<thead>\n",
       "\t<tr><th scope=col>time</th><th scope=col>Y</th><th scope=col>x1</th><th scope=col>x2</th><th scope=col>x3</th><th scope=col>x4</th><th scope=col>x5</th><th scope=col>x6</th><th scope=col>x7</th><th scope=col>x8</th><th scope=col>x9</th></tr>\n",
       "\t<tr><th scope=col>&lt;dbl&gt;</th><th scope=col>&lt;int&gt;</th><th scope=col>&lt;int&gt;</th><th scope=col>&lt;int&gt;</th><th scope=col>&lt;int&gt;</th><th scope=col>&lt;dbl&gt;</th><th scope=col>&lt;dbl&gt;</th><th scope=col>&lt;dbl&gt;</th><th scope=col>&lt;dbl&gt;</th><th scope=col>&lt;dbl&gt;</th><th scope=col>&lt;dbl&gt;</th></tr>\n",
       "</thead>\n",
       "<tbody>\n",
       "\t<tr><td>25.0208</td><td>0</td><td>420</td><td>46</td><td>10</td><td>39.6</td><td>7.37</td><td>42</td><td> 35</td><td> 1.3</td><td> 50</td></tr>\n",
       "\t<tr><td>18.0208</td><td>0</td><td>420</td><td>62</td><td> 9</td><td>32.2</td><td>7.31</td><td>40</td><td> 32</td><td> 0.3</td><td> 70</td></tr>\n",
       "\t<tr><td> 4.2256</td><td>0</td><td>420</td><td>63</td><td>13</td><td>36.3</td><td>7.43</td><td>62</td><td> 13</td><td> 0.3</td><td> 70</td></tr>\n",
       "\t<tr><td>44.4562</td><td>0</td><td>420</td><td>24</td><td> 7</td><td>36.0</td><td>7.24</td><td>44</td><td> 11</td><td> 0.6</td><td> 60</td></tr>\n",
       "\t<tr><td> 8.4611</td><td>1</td><td>420</td><td>77</td><td> 9</td><td>36.0</td><td>7.23</td><td>40</td><td> 53</td><td> 1.5</td><td> 50</td></tr>\n",
       "\t<tr><td>13.9409</td><td>0</td><td>420</td><td>67</td><td> 4</td><td>36.2</td><td>7.50</td><td>26</td><td> 48</td><td> 6.3</td><td> 60</td></tr>\n",
       "\t<tr><td> 2.0263</td><td>0</td><td>420</td><td>83</td><td>13</td><td>36.9</td><td>7.44</td><td>42</td><td> 39</td><td> 0.9</td><td> 28</td></tr>\n",
       "\t<tr><td> 6.9861</td><td>0</td><td>420</td><td>78</td><td>13</td><td>37.8</td><td>7.41</td><td>44</td><td> 63</td><td> 0.2</td><td>100</td></tr>\n",
       "\t<tr><td> 5.5069</td><td>0</td><td>420</td><td>72</td><td>12</td><td>36.4</td><td>7.38</td><td>29</td><td> 24</td><td> 0.4</td><td> 50</td></tr>\n",
       "\t<tr><td> 3.4652</td><td>1</td><td>420</td><td>67</td><td> 6</td><td>35.9</td><td>7.44</td><td>52</td><td> 17</td><td> 0.4</td><td> 40</td></tr>\n",
       "\t<tr><td> 1.8645</td><td>0</td><td>420</td><td>65</td><td>15</td><td>37.4</td><td>7.44</td><td>40</td><td>  7</td><td> 0.4</td><td>100</td></tr>\n",
       "\t<tr><td> 5.9062</td><td>0</td><td>420</td><td>63</td><td> 4</td><td>36.2</td><td>7.31</td><td>48</td><td> 31</td><td> 5.3</td><td> 50</td></tr>\n",
       "\t<tr><td> 1.4750</td><td>1</td><td>420</td><td>54</td><td> 3</td><td>32.3</td><td>6.96</td><td>44</td><td>103</td><td>14.0</td><td> 80</td></tr>\n",
       "\t<tr><td>15.8611</td><td>0</td><td>420</td><td>39</td><td> 8</td><td>36.8</td><td>7.41</td><td>40</td><td> 12</td><td> 1.1</td><td> 50</td></tr>\n",
       "\t<tr><td> 2.1909</td><td>0</td><td>420</td><td>50</td><td>11</td><td>37.3</td><td>7.39</td><td>48</td><td> 15</td><td> 0.5</td><td> 50</td></tr>\n",
       "\t<tr><td>22.9368</td><td>1</td><td>420</td><td>75</td><td> 6</td><td>36.9</td><td>7.42</td><td>30</td><td>118</td><td> 2.6</td><td> 50</td></tr>\n",
       "\t<tr><td>19.9027</td><td>0</td><td>420</td><td>59</td><td>10</td><td>36.5</td><td>7.29</td><td>31</td><td> 31</td><td> 9.0</td><td> 50</td></tr>\n",
       "\t<tr><td> 4.2500</td><td>0</td><td>420</td><td>82</td><td>10</td><td>36.9</td><td>7.30</td><td>39</td><td> 57</td><td> 0.3</td><td> 50</td></tr>\n",
       "\t<tr><td>14.0868</td><td>0</td><td>420</td><td>73</td><td>10</td><td>35.8</td><td>7.35</td><td>41</td><td> 52</td><td> 0.6</td><td> 70</td></tr>\n",
       "\t<tr><td> 2.3541</td><td>0</td><td>420</td><td>66</td><td>15</td><td>36.4</td><td>7.43</td><td>33</td><td> 33</td><td> 0.6</td><td> 24</td></tr>\n",
       "\t<tr><td>14.7604</td><td>0</td><td>420</td><td>79</td><td> 3</td><td>36.4</td><td>7.27</td><td>45</td><td> 33</td><td> 2.4</td><td>100</td></tr>\n",
       "\t<tr><td> 1.2513</td><td>0</td><td>420</td><td>28</td><td>12</td><td>36.5</td><td>7.43</td><td>31</td><td>  8</td><td> 1.2</td><td> 21</td></tr>\n",
       "\t<tr><td> 2.5451</td><td>0</td><td>420</td><td>43</td><td>15</td><td>36.0</td><td>7.34</td><td>43</td><td> 41</td><td> 0.9</td><td> 35</td></tr>\n",
       "\t<tr><td>13.1895</td><td>0</td><td>420</td><td>66</td><td> 8</td><td>36.5</td><td>7.35</td><td>44</td><td> 23</td><td> 0.5</td><td>100</td></tr>\n",
       "\t<tr><td> 6.5277</td><td>0</td><td>420</td><td>88</td><td> 7</td><td>35.8</td><td>7.20</td><td>42</td><td> 42</td><td> 0.8</td><td>100</td></tr>\n",
       "\t<tr><td> 2.2618</td><td>1</td><td>420</td><td>66</td><td> 3</td><td>32.4</td><td>7.30</td><td>33</td><td> 37</td><td> 1.6</td><td>100</td></tr>\n",
       "\t<tr><td>21.7215</td><td>0</td><td>420</td><td>58</td><td>10</td><td>35.5</td><td>7.30</td><td>38</td><td> 38</td><td> 2.6</td><td> 80</td></tr>\n",
       "\t<tr><td> 1.6319</td><td>0</td><td>420</td><td>64</td><td>14</td><td>36.6</td><td>7.32</td><td>44</td><td> 55</td><td> 3.4</td><td> 30</td></tr>\n",
       "\t<tr><td>13.5944</td><td>0</td><td>420</td><td>58</td><td> 8</td><td>36.6</td><td>7.20</td><td>65</td><td> 15</td><td> 0.9</td><td>100</td></tr>\n",
       "\t<tr><td>11.2048</td><td>0</td><td>420</td><td>56</td><td> 8</td><td>36.6</td><td>7.39</td><td>51</td><td> 30</td><td> 0.2</td><td> 50</td></tr>\n",
       "\t<tr><td>⋮</td><td>⋮</td><td>⋮</td><td>⋮</td><td>⋮</td><td>⋮</td><td>⋮</td><td>⋮</td><td>⋮</td><td>⋮</td><td>⋮</td></tr>\n",
       "\t<tr><td> 7.8715</td><td>0</td><td>420</td><td>51</td><td> 8</td><td>36.0</td><td>7.34</td><td>37</td><td> 67</td><td>15.3</td><td> 50</td></tr>\n",
       "\t<tr><td> 1.2500</td><td>1</td><td>420</td><td>77</td><td> 6</td><td>36.4</td><td>7.34</td><td>39</td><td> 86</td><td> 0.7</td><td> 40</td></tr>\n",
       "\t<tr><td> 3.1041</td><td>1</td><td>420</td><td>53</td><td> 3</td><td>41.1</td><td>7.30</td><td>41</td><td> 27</td><td> 0.7</td><td> 50</td></tr>\n",
       "\t<tr><td> 5.3583</td><td>1</td><td>420</td><td>40</td><td> 3</td><td>35.6</td><td>7.21</td><td>46</td><td> 14</td><td> 0.6</td><td>100</td></tr>\n",
       "\t<tr><td> 4.5437</td><td>1</td><td>420</td><td>85</td><td>13</td><td>36.9</td><td>7.30</td><td>81</td><td> 76</td><td> 0.4</td><td> 40</td></tr>\n",
       "\t<tr><td>13.4666</td><td>0</td><td>420</td><td>29</td><td>12</td><td>34.6</td><td>7.49</td><td>26</td><td> 26</td><td> 0.7</td><td> 60</td></tr>\n",
       "\t<tr><td> 0.8819</td><td>0</td><td>420</td><td>64</td><td> 3</td><td>37.0</td><td>7.43</td><td>33</td><td>  7</td><td> 0.5</td><td> 30</td></tr>\n",
       "\t<tr><td> 2.6868</td><td>1</td><td>420</td><td>46</td><td> 3</td><td>37.1</td><td>7.30</td><td>38</td><td> 14</td><td> 0.7</td><td> 70</td></tr>\n",
       "\t<tr><td> 1.2951</td><td>0</td><td>420</td><td>79</td><td>15</td><td>36.0</td><td>7.40</td><td>44</td><td> 39</td><td> 1.0</td><td> 50</td></tr>\n",
       "\t<tr><td> 2.5347</td><td>0</td><td>420</td><td>36</td><td> 6</td><td>35.0</td><td>7.28</td><td>44</td><td> 17</td><td> 0.6</td><td> 70</td></tr>\n",
       "\t<tr><td>13.3090</td><td>0</td><td>420</td><td>67</td><td> 7</td><td>36.0</td><td>7.30</td><td>50</td><td> 54</td><td> 0.2</td><td> 50</td></tr>\n",
       "\t<tr><td> 6.9243</td><td>1</td><td>420</td><td>63</td><td> 6</td><td>36.5</td><td>7.46</td><td>42</td><td> 16</td><td> 0.5</td><td> 60</td></tr>\n",
       "\t<tr><td>20.8888</td><td>0</td><td>420</td><td>64</td><td>10</td><td>39.3</td><td>7.43</td><td>44</td><td> 41</td><td> 0.3</td><td> 50</td></tr>\n",
       "\t<tr><td> 8.3256</td><td>1</td><td>420</td><td>49</td><td> 7</td><td>36.0</td><td>7.34</td><td>34</td><td>107</td><td> 6.1</td><td> 40</td></tr>\n",
       "\t<tr><td> 8.9722</td><td>1</td><td>420</td><td>52</td><td> 3</td><td>31.2</td><td>7.52</td><td>27</td><td> 19</td><td> 0.7</td><td> 50</td></tr>\n",
       "\t<tr><td> 7.8402</td><td>0</td><td>420</td><td>63</td><td>15</td><td>37.1</td><td>7.44</td><td>51</td><td> 20</td><td> 0.5</td><td> 50</td></tr>\n",
       "\t<tr><td> 1.1041</td><td>0</td><td>420</td><td>67</td><td>14</td><td>37.1</td><td>7.56</td><td>22</td><td> 16</td><td> 2.0</td><td> 28</td></tr>\n",
       "\t<tr><td> 2.0131</td><td>0</td><td>420</td><td>65</td><td> 6</td><td>36.7</td><td>7.38</td><td>45</td><td> 17</td><td> 0.6</td><td>100</td></tr>\n",
       "\t<tr><td> 7.3305</td><td>0</td><td>420</td><td>61</td><td>10</td><td>36.7</td><td>7.34</td><td>43</td><td> 20</td><td> 2.0</td><td>100</td></tr>\n",
       "\t<tr><td> 0.6819</td><td>1</td><td>420</td><td>75</td><td>14</td><td>36.5</td><td>7.08</td><td>25</td><td> 39</td><td> 2.0</td><td> 50</td></tr>\n",
       "\t<tr><td> 5.2361</td><td>1</td><td>420</td><td>61</td><td> 3</td><td>34.4</td><td>7.42</td><td>33</td><td> 24</td><td> 2.6</td><td> 80</td></tr>\n",
       "\t<tr><td> 2.8159</td><td>1</td><td>420</td><td>37</td><td> 3</td><td>36.6</td><td>7.43</td><td>44</td><td> 29</td><td> 0.3</td><td> 50</td></tr>\n",
       "\t<tr><td> 2.8312</td><td>0</td><td>420</td><td>63</td><td>10</td><td>36.4</td><td>7.32</td><td>47</td><td> 11</td><td> 2.3</td><td> 50</td></tr>\n",
       "\t<tr><td> 2.5173</td><td>0</td><td>420</td><td>63</td><td>12</td><td>36.5</td><td>7.24</td><td>39</td><td> 25</td><td> 3.7</td><td> 40</td></tr>\n",
       "\t<tr><td>11.8229</td><td>0</td><td>420</td><td>61</td><td>10</td><td>37.4</td><td>7.40</td><td>52</td><td>111</td><td> 0.2</td><td> 35</td></tr>\n",
       "\t<tr><td> 2.2270</td><td>0</td><td>420</td><td>63</td><td>15</td><td>36.9</td><td>7.34</td><td>47</td><td> 14</td><td> 0.9</td><td> 50</td></tr>\n",
       "\t<tr><td> 9.1423</td><td>0</td><td>420</td><td>31</td><td> 9</td><td>40.0</td><td>7.42</td><td>35</td><td> 12</td><td> 1.4</td><td> 60</td></tr>\n",
       "\t<tr><td> 4.5312</td><td>0</td><td>420</td><td>59</td><td>15</td><td>37.2</td><td>7.48</td><td>44</td><td> 11</td><td> 1.5</td><td> 50</td></tr>\n",
       "\t<tr><td> 4.4722</td><td>0</td><td>420</td><td>83</td><td> 6</td><td>37.8</td><td>7.39</td><td>41</td><td> 22</td><td> 1.0</td><td> 50</td></tr>\n",
       "\t<tr><td> 2.1319</td><td>0</td><td>420</td><td>39</td><td>10</td><td>37.2</td><td>7.43</td><td>31</td><td> 11</td><td> 0.5</td><td> 50</td></tr>\n",
       "</tbody>\n",
       "</table>\n",
       "</li>\n",
       "</ol>\n"
      ],
      "text/latex": [
       "\\begin{enumerate}\n",
       "\\item A tibble: 370 × 11\n",
       "\\begin{tabular}{lllllllllll}\n",
       " time & Y & x1 & x2 & x3 & x4 & x5 & x6 & x7 & x8 & x9\\\\\n",
       " <dbl> & <int> & <int> & <int> & <int> & <dbl> & <dbl> & <dbl> & <dbl> & <dbl> & <dbl>\\\\\n",
       "\\hline\n",
       "\t 25.0208 & 0 & 420 & 46 & 10 & 39.6 & 7.37 & 42 &  35 &  1.3 &  50\\\\\n",
       "\t 18.0208 & 0 & 420 & 62 &  9 & 32.2 & 7.31 & 40 &  32 &  0.3 &  70\\\\\n",
       "\t  4.2256 & 0 & 420 & 63 & 13 & 36.3 & 7.43 & 62 &  13 &  0.3 &  70\\\\\n",
       "\t 44.4562 & 0 & 420 & 24 &  7 & 36.0 & 7.24 & 44 &  11 &  0.6 &  60\\\\\n",
       "\t  8.4611 & 1 & 420 & 77 &  9 & 36.0 & 7.23 & 40 &  53 &  1.5 &  50\\\\\n",
       "\t 13.9409 & 0 & 420 & 67 &  4 & 36.2 & 7.50 & 26 &  48 &  6.3 &  60\\\\\n",
       "\t  2.0263 & 0 & 420 & 83 & 13 & 36.9 & 7.44 & 42 &  39 &  0.9 &  28\\\\\n",
       "\t  6.9861 & 0 & 420 & 78 & 13 & 37.8 & 7.41 & 44 &  63 &  0.2 & 100\\\\\n",
       "\t  5.5069 & 0 & 420 & 72 & 12 & 36.4 & 7.38 & 29 &  24 &  0.4 &  50\\\\\n",
       "\t  3.4652 & 1 & 420 & 67 &  6 & 35.9 & 7.44 & 52 &  17 &  0.4 &  40\\\\\n",
       "\t  1.8645 & 0 & 420 & 65 & 15 & 37.4 & 7.44 & 40 &   7 &  0.4 & 100\\\\\n",
       "\t  5.9062 & 0 & 420 & 63 &  4 & 36.2 & 7.31 & 48 &  31 &  5.3 &  50\\\\\n",
       "\t  1.4750 & 1 & 420 & 54 &  3 & 32.3 & 6.96 & 44 & 103 & 14.0 &  80\\\\\n",
       "\t 15.8611 & 0 & 420 & 39 &  8 & 36.8 & 7.41 & 40 &  12 &  1.1 &  50\\\\\n",
       "\t  2.1909 & 0 & 420 & 50 & 11 & 37.3 & 7.39 & 48 &  15 &  0.5 &  50\\\\\n",
       "\t 22.9368 & 1 & 420 & 75 &  6 & 36.9 & 7.42 & 30 & 118 &  2.6 &  50\\\\\n",
       "\t 19.9027 & 0 & 420 & 59 & 10 & 36.5 & 7.29 & 31 &  31 &  9.0 &  50\\\\\n",
       "\t  4.2500 & 0 & 420 & 82 & 10 & 36.9 & 7.30 & 39 &  57 &  0.3 &  50\\\\\n",
       "\t 14.0868 & 0 & 420 & 73 & 10 & 35.8 & 7.35 & 41 &  52 &  0.6 &  70\\\\\n",
       "\t  2.3541 & 0 & 420 & 66 & 15 & 36.4 & 7.43 & 33 &  33 &  0.6 &  24\\\\\n",
       "\t 14.7604 & 0 & 420 & 79 &  3 & 36.4 & 7.27 & 45 &  33 &  2.4 & 100\\\\\n",
       "\t  1.2513 & 0 & 420 & 28 & 12 & 36.5 & 7.43 & 31 &   8 &  1.2 &  21\\\\\n",
       "\t  2.5451 & 0 & 420 & 43 & 15 & 36.0 & 7.34 & 43 &  41 &  0.9 &  35\\\\\n",
       "\t 13.1895 & 0 & 420 & 66 &  8 & 36.5 & 7.35 & 44 &  23 &  0.5 & 100\\\\\n",
       "\t  6.5277 & 0 & 420 & 88 &  7 & 35.8 & 7.20 & 42 &  42 &  0.8 & 100\\\\\n",
       "\t  2.2618 & 1 & 420 & 66 &  3 & 32.4 & 7.30 & 33 &  37 &  1.6 & 100\\\\\n",
       "\t 21.7215 & 0 & 420 & 58 & 10 & 35.5 & 7.30 & 38 &  38 &  2.6 &  80\\\\\n",
       "\t  1.6319 & 0 & 420 & 64 & 14 & 36.6 & 7.32 & 44 &  55 &  3.4 &  30\\\\\n",
       "\t 13.5944 & 0 & 420 & 58 &  8 & 36.6 & 7.20 & 65 &  15 &  0.9 & 100\\\\\n",
       "\t 11.2048 & 0 & 420 & 56 &  8 & 36.6 & 7.39 & 51 &  30 &  0.2 &  50\\\\\n",
       "\t ⋮ & ⋮ & ⋮ & ⋮ & ⋮ & ⋮ & ⋮ & ⋮ & ⋮ & ⋮ & ⋮\\\\\n",
       "\t  7.8715 & 0 & 420 & 51 &  8 & 36.0 & 7.34 & 37 &  67 & 15.3 &  50\\\\\n",
       "\t  1.2500 & 1 & 420 & 77 &  6 & 36.4 & 7.34 & 39 &  86 &  0.7 &  40\\\\\n",
       "\t  3.1041 & 1 & 420 & 53 &  3 & 41.1 & 7.30 & 41 &  27 &  0.7 &  50\\\\\n",
       "\t  5.3583 & 1 & 420 & 40 &  3 & 35.6 & 7.21 & 46 &  14 &  0.6 & 100\\\\\n",
       "\t  4.5437 & 1 & 420 & 85 & 13 & 36.9 & 7.30 & 81 &  76 &  0.4 &  40\\\\\n",
       "\t 13.4666 & 0 & 420 & 29 & 12 & 34.6 & 7.49 & 26 &  26 &  0.7 &  60\\\\\n",
       "\t  0.8819 & 0 & 420 & 64 &  3 & 37.0 & 7.43 & 33 &   7 &  0.5 &  30\\\\\n",
       "\t  2.6868 & 1 & 420 & 46 &  3 & 37.1 & 7.30 & 38 &  14 &  0.7 &  70\\\\\n",
       "\t  1.2951 & 0 & 420 & 79 & 15 & 36.0 & 7.40 & 44 &  39 &  1.0 &  50\\\\\n",
       "\t  2.5347 & 0 & 420 & 36 &  6 & 35.0 & 7.28 & 44 &  17 &  0.6 &  70\\\\\n",
       "\t 13.3090 & 0 & 420 & 67 &  7 & 36.0 & 7.30 & 50 &  54 &  0.2 &  50\\\\\n",
       "\t  6.9243 & 1 & 420 & 63 &  6 & 36.5 & 7.46 & 42 &  16 &  0.5 &  60\\\\\n",
       "\t 20.8888 & 0 & 420 & 64 & 10 & 39.3 & 7.43 & 44 &  41 &  0.3 &  50\\\\\n",
       "\t  8.3256 & 1 & 420 & 49 &  7 & 36.0 & 7.34 & 34 & 107 &  6.1 &  40\\\\\n",
       "\t  8.9722 & 1 & 420 & 52 &  3 & 31.2 & 7.52 & 27 &  19 &  0.7 &  50\\\\\n",
       "\t  7.8402 & 0 & 420 & 63 & 15 & 37.1 & 7.44 & 51 &  20 &  0.5 &  50\\\\\n",
       "\t  1.1041 & 0 & 420 & 67 & 14 & 37.1 & 7.56 & 22 &  16 &  2.0 &  28\\\\\n",
       "\t  2.0131 & 0 & 420 & 65 &  6 & 36.7 & 7.38 & 45 &  17 &  0.6 & 100\\\\\n",
       "\t  7.3305 & 0 & 420 & 61 & 10 & 36.7 & 7.34 & 43 &  20 &  2.0 & 100\\\\\n",
       "\t  0.6819 & 1 & 420 & 75 & 14 & 36.5 & 7.08 & 25 &  39 &  2.0 &  50\\\\\n",
       "\t  5.2361 & 1 & 420 & 61 &  3 & 34.4 & 7.42 & 33 &  24 &  2.6 &  80\\\\\n",
       "\t  2.8159 & 1 & 420 & 37 &  3 & 36.6 & 7.43 & 44 &  29 &  0.3 &  50\\\\\n",
       "\t  2.8312 & 0 & 420 & 63 & 10 & 36.4 & 7.32 & 47 &  11 &  2.3 &  50\\\\\n",
       "\t  2.5173 & 0 & 420 & 63 & 12 & 36.5 & 7.24 & 39 &  25 &  3.7 &  40\\\\\n",
       "\t 11.8229 & 0 & 420 & 61 & 10 & 37.4 & 7.40 & 52 & 111 &  0.2 &  35\\\\\n",
       "\t  2.2270 & 0 & 420 & 63 & 15 & 36.9 & 7.34 & 47 &  14 &  0.9 &  50\\\\\n",
       "\t  9.1423 & 0 & 420 & 31 &  9 & 40.0 & 7.42 & 35 &  12 &  1.4 &  60\\\\\n",
       "\t  4.5312 & 0 & 420 & 59 & 15 & 37.2 & 7.48 & 44 &  11 &  1.5 &  50\\\\\n",
       "\t  4.4722 & 0 & 420 & 83 &  6 & 37.8 & 7.39 & 41 &  22 &  1.0 &  50\\\\\n",
       "\t  2.1319 & 0 & 420 & 39 & 10 & 37.2 & 7.43 & 31 &  11 &  0.5 &  50\\\\\n",
       "\\end{tabular}\n",
       "\n",
       "\\end{enumerate}\n"
      ],
      "text/markdown": [
       "1. \n",
       "A tibble: 370 × 11\n",
       "\n",
       "| time &lt;dbl&gt; | Y &lt;int&gt; | x1 &lt;int&gt; | x2 &lt;int&gt; | x3 &lt;int&gt; | x4 &lt;dbl&gt; | x5 &lt;dbl&gt; | x6 &lt;dbl&gt; | x7 &lt;dbl&gt; | x8 &lt;dbl&gt; | x9 &lt;dbl&gt; |\n",
       "|---|---|---|---|---|---|---|---|---|---|---|\n",
       "| 25.0208 | 0 | 420 | 46 | 10 | 39.6 | 7.37 | 42 |  35 |  1.3 |  50 |\n",
       "| 18.0208 | 0 | 420 | 62 |  9 | 32.2 | 7.31 | 40 |  32 |  0.3 |  70 |\n",
       "|  4.2256 | 0 | 420 | 63 | 13 | 36.3 | 7.43 | 62 |  13 |  0.3 |  70 |\n",
       "| 44.4562 | 0 | 420 | 24 |  7 | 36.0 | 7.24 | 44 |  11 |  0.6 |  60 |\n",
       "|  8.4611 | 1 | 420 | 77 |  9 | 36.0 | 7.23 | 40 |  53 |  1.5 |  50 |\n",
       "| 13.9409 | 0 | 420 | 67 |  4 | 36.2 | 7.50 | 26 |  48 |  6.3 |  60 |\n",
       "|  2.0263 | 0 | 420 | 83 | 13 | 36.9 | 7.44 | 42 |  39 |  0.9 |  28 |\n",
       "|  6.9861 | 0 | 420 | 78 | 13 | 37.8 | 7.41 | 44 |  63 |  0.2 | 100 |\n",
       "|  5.5069 | 0 | 420 | 72 | 12 | 36.4 | 7.38 | 29 |  24 |  0.4 |  50 |\n",
       "|  3.4652 | 1 | 420 | 67 |  6 | 35.9 | 7.44 | 52 |  17 |  0.4 |  40 |\n",
       "|  1.8645 | 0 | 420 | 65 | 15 | 37.4 | 7.44 | 40 |   7 |  0.4 | 100 |\n",
       "|  5.9062 | 0 | 420 | 63 |  4 | 36.2 | 7.31 | 48 |  31 |  5.3 |  50 |\n",
       "|  1.4750 | 1 | 420 | 54 |  3 | 32.3 | 6.96 | 44 | 103 | 14.0 |  80 |\n",
       "| 15.8611 | 0 | 420 | 39 |  8 | 36.8 | 7.41 | 40 |  12 |  1.1 |  50 |\n",
       "|  2.1909 | 0 | 420 | 50 | 11 | 37.3 | 7.39 | 48 |  15 |  0.5 |  50 |\n",
       "| 22.9368 | 1 | 420 | 75 |  6 | 36.9 | 7.42 | 30 | 118 |  2.6 |  50 |\n",
       "| 19.9027 | 0 | 420 | 59 | 10 | 36.5 | 7.29 | 31 |  31 |  9.0 |  50 |\n",
       "|  4.2500 | 0 | 420 | 82 | 10 | 36.9 | 7.30 | 39 |  57 |  0.3 |  50 |\n",
       "| 14.0868 | 0 | 420 | 73 | 10 | 35.8 | 7.35 | 41 |  52 |  0.6 |  70 |\n",
       "|  2.3541 | 0 | 420 | 66 | 15 | 36.4 | 7.43 | 33 |  33 |  0.6 |  24 |\n",
       "| 14.7604 | 0 | 420 | 79 |  3 | 36.4 | 7.27 | 45 |  33 |  2.4 | 100 |\n",
       "|  1.2513 | 0 | 420 | 28 | 12 | 36.5 | 7.43 | 31 |   8 |  1.2 |  21 |\n",
       "|  2.5451 | 0 | 420 | 43 | 15 | 36.0 | 7.34 | 43 |  41 |  0.9 |  35 |\n",
       "| 13.1895 | 0 | 420 | 66 |  8 | 36.5 | 7.35 | 44 |  23 |  0.5 | 100 |\n",
       "|  6.5277 | 0 | 420 | 88 |  7 | 35.8 | 7.20 | 42 |  42 |  0.8 | 100 |\n",
       "|  2.2618 | 1 | 420 | 66 |  3 | 32.4 | 7.30 | 33 |  37 |  1.6 | 100 |\n",
       "| 21.7215 | 0 | 420 | 58 | 10 | 35.5 | 7.30 | 38 |  38 |  2.6 |  80 |\n",
       "|  1.6319 | 0 | 420 | 64 | 14 | 36.6 | 7.32 | 44 |  55 |  3.4 |  30 |\n",
       "| 13.5944 | 0 | 420 | 58 |  8 | 36.6 | 7.20 | 65 |  15 |  0.9 | 100 |\n",
       "| 11.2048 | 0 | 420 | 56 |  8 | 36.6 | 7.39 | 51 |  30 |  0.2 |  50 |\n",
       "| ⋮ | ⋮ | ⋮ | ⋮ | ⋮ | ⋮ | ⋮ | ⋮ | ⋮ | ⋮ | ⋮ |\n",
       "|  7.8715 | 0 | 420 | 51 |  8 | 36.0 | 7.34 | 37 |  67 | 15.3 |  50 |\n",
       "|  1.2500 | 1 | 420 | 77 |  6 | 36.4 | 7.34 | 39 |  86 |  0.7 |  40 |\n",
       "|  3.1041 | 1 | 420 | 53 |  3 | 41.1 | 7.30 | 41 |  27 |  0.7 |  50 |\n",
       "|  5.3583 | 1 | 420 | 40 |  3 | 35.6 | 7.21 | 46 |  14 |  0.6 | 100 |\n",
       "|  4.5437 | 1 | 420 | 85 | 13 | 36.9 | 7.30 | 81 |  76 |  0.4 |  40 |\n",
       "| 13.4666 | 0 | 420 | 29 | 12 | 34.6 | 7.49 | 26 |  26 |  0.7 |  60 |\n",
       "|  0.8819 | 0 | 420 | 64 |  3 | 37.0 | 7.43 | 33 |   7 |  0.5 |  30 |\n",
       "|  2.6868 | 1 | 420 | 46 |  3 | 37.1 | 7.30 | 38 |  14 |  0.7 |  70 |\n",
       "|  1.2951 | 0 | 420 | 79 | 15 | 36.0 | 7.40 | 44 |  39 |  1.0 |  50 |\n",
       "|  2.5347 | 0 | 420 | 36 |  6 | 35.0 | 7.28 | 44 |  17 |  0.6 |  70 |\n",
       "| 13.3090 | 0 | 420 | 67 |  7 | 36.0 | 7.30 | 50 |  54 |  0.2 |  50 |\n",
       "|  6.9243 | 1 | 420 | 63 |  6 | 36.5 | 7.46 | 42 |  16 |  0.5 |  60 |\n",
       "| 20.8888 | 0 | 420 | 64 | 10 | 39.3 | 7.43 | 44 |  41 |  0.3 |  50 |\n",
       "|  8.3256 | 1 | 420 | 49 |  7 | 36.0 | 7.34 | 34 | 107 |  6.1 |  40 |\n",
       "|  8.9722 | 1 | 420 | 52 |  3 | 31.2 | 7.52 | 27 |  19 |  0.7 |  50 |\n",
       "|  7.8402 | 0 | 420 | 63 | 15 | 37.1 | 7.44 | 51 |  20 |  0.5 |  50 |\n",
       "|  1.1041 | 0 | 420 | 67 | 14 | 37.1 | 7.56 | 22 |  16 |  2.0 |  28 |\n",
       "|  2.0131 | 0 | 420 | 65 |  6 | 36.7 | 7.38 | 45 |  17 |  0.6 | 100 |\n",
       "|  7.3305 | 0 | 420 | 61 | 10 | 36.7 | 7.34 | 43 |  20 |  2.0 | 100 |\n",
       "|  0.6819 | 1 | 420 | 75 | 14 | 36.5 | 7.08 | 25 |  39 |  2.0 |  50 |\n",
       "|  5.2361 | 1 | 420 | 61 |  3 | 34.4 | 7.42 | 33 |  24 |  2.6 |  80 |\n",
       "|  2.8159 | 1 | 420 | 37 |  3 | 36.6 | 7.43 | 44 |  29 |  0.3 |  50 |\n",
       "|  2.8312 | 0 | 420 | 63 | 10 | 36.4 | 7.32 | 47 |  11 |  2.3 |  50 |\n",
       "|  2.5173 | 0 | 420 | 63 | 12 | 36.5 | 7.24 | 39 |  25 |  3.7 |  40 |\n",
       "| 11.8229 | 0 | 420 | 61 | 10 | 37.4 | 7.40 | 52 | 111 |  0.2 |  35 |\n",
       "|  2.2270 | 0 | 420 | 63 | 15 | 36.9 | 7.34 | 47 |  14 |  0.9 |  50 |\n",
       "|  9.1423 | 0 | 420 | 31 |  9 | 40.0 | 7.42 | 35 |  12 |  1.4 |  60 |\n",
       "|  4.5312 | 0 | 420 | 59 | 15 | 37.2 | 7.48 | 44 |  11 |  1.5 |  50 |\n",
       "|  4.4722 | 0 | 420 | 83 |  6 | 37.8 | 7.39 | 41 |  22 |  1.0 |  50 |\n",
       "|  2.1319 | 0 | 420 | 39 | 10 | 37.2 | 7.43 | 31 |  11 |  0.5 |  50 |\n",
       "\n",
       "\n",
       "\n",
       "\n"
      ],
      "text/plain": [
       "[[1]]\n",
       "\u001b[90m# A tibble: 370 x 11\u001b[39m\n",
       "    time     Y    x1    x2    x3    x4    x5    x6    x7    x8    x9\n",
       "   \u001b[3m\u001b[90m<dbl>\u001b[39m\u001b[23m \u001b[3m\u001b[90m<int>\u001b[39m\u001b[23m \u001b[3m\u001b[90m<int>\u001b[39m\u001b[23m \u001b[3m\u001b[90m<int>\u001b[39m\u001b[23m \u001b[3m\u001b[90m<int>\u001b[39m\u001b[23m \u001b[3m\u001b[90m<dbl>\u001b[39m\u001b[23m \u001b[3m\u001b[90m<dbl>\u001b[39m\u001b[23m \u001b[3m\u001b[90m<dbl>\u001b[39m\u001b[23m \u001b[3m\u001b[90m<dbl>\u001b[39m\u001b[23m \u001b[3m\u001b[90m<dbl>\u001b[39m\u001b[23m \u001b[3m\u001b[90m<dbl>\u001b[39m\u001b[23m\n",
       "\u001b[90m 1\u001b[39m 25.0      0   420    46    10  39.6  7.37    42    35   1.3    50\n",
       "\u001b[90m 2\u001b[39m 18.0      0   420    62     9  32.2  7.31    40    32   0.3    70\n",
       "\u001b[90m 3\u001b[39m  4.23     0   420    63    13  36.3  7.43    62    13   0.3    70\n",
       "\u001b[90m 4\u001b[39m 44.5      0   420    24     7  36    7.24    44    11   0.6    60\n",
       "\u001b[90m 5\u001b[39m  8.46     1   420    77     9  36    7.23    40    53   1.5    50\n",
       "\u001b[90m 6\u001b[39m 13.9      0   420    67     4  36.2  7.5     26    48   6.3    60\n",
       "\u001b[90m 7\u001b[39m  2.03     0   420    83    13  36.9  7.44    42    39   0.9    28\n",
       "\u001b[90m 8\u001b[39m  6.99     0   420    78    13  37.8  7.41    44    63   0.2   100\n",
       "\u001b[90m 9\u001b[39m  5.51     0   420    72    12  36.4  7.38    29    24   0.4    50\n",
       "\u001b[90m10\u001b[39m  3.47     1   420    67     6  35.9  7.44    52    17   0.4    40\n",
       "\u001b[90m# … with 360 more rows\u001b[39m\n"
      ]
     },
     "metadata": {},
     "output_type": "display_data"
    }
   ],
   "source": [
    "Z1.Z2.H1.100[[1]][1]"
   ]
  },
  {
   "cell_type": "code",
   "execution_count": 85,
   "metadata": {},
   "outputs": [
    {
     "ename": "ERROR",
     "evalue": "Error in Surv(time, Y): 객체 'Y'를 찾을 수 없습니다\n",
     "output_type": "error",
     "traceback": [
      "Error in Surv(time, Y): 객체 'Y'를 찾을 수 없습니다\nTraceback:\n",
      "1. make.model(Z1.Z2.H1.100, H1)",
      "2. assign(paste0(\"cox\", \".\", party.name, \".\", i), coxph(Surv(time, \n .     Y) ~ ., data = z1z2list[[1]][i], ties = \"breslow\"))   # at line 15-17 of file <text>",
      "3. coxph(Surv(time, Y) ~ ., data = z1z2list[[1]][i], ties = \"breslow\")   # at line 15-17 of file <text>",
      "4. eval(tform, parent.frame())",
      "5. eval(tform, parent.frame())",
      "6. stats::model.frame(formula = Surv(time, Y) ~ x1 + x2 + x3 + x4 + \n .     x5 + x6 + x7 + x8 + x9, data = z1z2list[[1]][i])",
      "7. model.frame.default(formula = Surv(time, Y) ~ x1 + x2 + x3 + \n .     x4 + x5 + x6 + x7 + x8 + x9, data = z1z2list[[1]][i])",
      "8. eval(predvars, data, env)",
      "9. eval(predvars, data, env)",
      "10. Surv(time, Y)"
     ]
    }
   ],
   "source": [
    "make.model(Z1.Z2.H1.100, H1)"
   ]
  },
  {
   "cell_type": "code",
   "execution_count": null,
   "metadata": {},
   "outputs": [],
   "source": []
  }
 ],
 "metadata": {
  "kernelspec": {
   "display_name": "R",
   "language": "R",
   "name": "ir"
  },
  "language_info": {
   "codemirror_mode": "r",
   "file_extension": ".r",
   "mimetype": "text/x-r-source",
   "name": "R",
   "pygments_lexer": "r",
   "version": "4.0.5"
  },
  "latex_envs": {
   "LaTeX_envs_menu_present": true,
   "autoclose": false,
   "autocomplete": true,
   "bibliofile": "biblio.bib",
   "cite_by": "apalike",
   "current_citInitial": 1,
   "eqLabelWithNumbers": true,
   "eqNumInitial": 1,
   "hotkeys": {
    "equation": "Ctrl-E",
    "itemize": "Ctrl-I"
   },
   "labels_anchors": false,
   "latex_user_defs": false,
   "report_style_numbering": false,
   "user_envs_cfg": false
  },
  "toc": {
   "base_numbering": 1,
   "nav_menu": {},
   "number_sections": true,
   "sideBar": true,
   "skip_h1_title": false,
   "title_cell": "Table of Contents",
   "title_sidebar": "Contents",
   "toc_cell": false,
   "toc_position": {},
   "toc_section_display": true,
   "toc_window_display": false
  }
 },
 "nbformat": 4,
 "nbformat_minor": 2
}
